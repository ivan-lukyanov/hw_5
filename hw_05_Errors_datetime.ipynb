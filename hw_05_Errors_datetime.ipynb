{
 "cells": [
  {
   "cell_type": "markdown",
   "metadata": {},
   "source": [
    "### Задание 1\n",
    "Печатные газеты использовали свой формат дат для каждого выпуска.   \n",
    "\n",
    "Для каждой газеты из списка напишите формат указанной даты для перевода в объект datetime:  \n",
    "\n",
    "- The Moscow Times - Wednesday, October 2, 2002  \n",
    "- The Guardian - Friday, 11.10.13  \n",
    "- Daily News - Thursday, 18 August 1977"
   ]
  },
  {
   "cell_type": "code",
   "execution_count": 20,
   "metadata": {},
   "outputs": [],
   "source": [
    "# Делаю импорт класса datetime\n",
    "from datetime import datetime"
   ]
  },
  {
   "cell_type": "code",
   "execution_count": 21,
   "metadata": {},
   "outputs": [],
   "source": [
    "# инициализирую переменную в которой будут храниться исходные данные\n",
    "the_moscow_times = 'Wednesday, October 2, 2002'"
   ]
  },
  {
   "cell_type": "code",
   "execution_count": 22,
   "metadata": {
    "scrolled": true
   },
   "outputs": [
    {
     "data": {
      "text/plain": [
       "datetime.datetime(2002, 10, 2, 0, 0)"
      ]
     },
     "execution_count": 22,
     "metadata": {},
     "output_type": "execute_result"
    }
   ],
   "source": [
    "# По дефолту базы данных выдают дату в типе 'str'\n",
    "# Перевожу в формат 'datatame'\n",
    "dt_msk_times = datetime.strptime(the_moscow_times, '%A, %B %d, %Y')\n",
    "dt_msk_times"
   ]
  },
  {
   "cell_type": "code",
   "execution_count": 23,
   "metadata": {},
   "outputs": [
    {
     "data": {
      "text/plain": [
       "'2002-10-02, Wednesday'"
      ]
     },
     "execution_count": 23,
     "metadata": {},
     "output_type": "execute_result"
    }
   ],
   "source": [
    "# Перевожу обратно в формат 'str', но использую более читабильный фрмат чем 'datatimw'\n",
    "str_dt_msk_times = dt_msk_times.strftime('%Y-%m-%d, %A')\n",
    "str_dt_msk_times"
   ]
  },
  {
   "cell_type": "markdown",
   "metadata": {},
   "source": [
    "---"
   ]
  },
  {
   "cell_type": "code",
   "execution_count": 24,
   "metadata": {},
   "outputs": [],
   "source": [
    "the_guardian = 'Friday, 11.10.13'"
   ]
  },
  {
   "cell_type": "code",
   "execution_count": 25,
   "metadata": {},
   "outputs": [
    {
     "data": {
      "text/plain": [
       "datetime.datetime(2013, 11, 10, 0, 0)"
      ]
     },
     "execution_count": 25,
     "metadata": {},
     "output_type": "execute_result"
    }
   ],
   "source": [
    "dt_guardian = datetime.strptime(the_guardian, '%A, %m.%d.%y')\n",
    "dt_guardian"
   ]
  },
  {
   "cell_type": "code",
   "execution_count": 26,
   "metadata": {},
   "outputs": [
    {
     "data": {
      "text/plain": [
       "'2013-11-10, Sunday'"
      ]
     },
     "execution_count": 26,
     "metadata": {},
     "output_type": "execute_result"
    }
   ],
   "source": [
    "str_dt_guardian = dt_guardian.strftime('%Y-%m-%d, %A')\n",
    "str_dt_guardian"
   ]
  },
  {
   "cell_type": "markdown",
   "metadata": {},
   "source": [
    "---"
   ]
  },
  {
   "cell_type": "code",
   "execution_count": 27,
   "metadata": {},
   "outputs": [],
   "source": [
    "daily_news = 'Thursday, 18 August 1977'"
   ]
  },
  {
   "cell_type": "code",
   "execution_count": 28,
   "metadata": {},
   "outputs": [
    {
     "data": {
      "text/plain": [
       "datetime.datetime(1977, 8, 18, 0, 0)"
      ]
     },
     "execution_count": 28,
     "metadata": {},
     "output_type": "execute_result"
    }
   ],
   "source": [
    "dt_daily_news = datetime.strptime(daily_news, '%A, %d %B %Y')\n",
    "dt_daily_news"
   ]
  },
  {
   "cell_type": "code",
   "execution_count": 29,
   "metadata": {},
   "outputs": [
    {
     "data": {
      "text/plain": [
       "'1977-08-18, Thursday'"
      ]
     },
     "execution_count": 29,
     "metadata": {},
     "output_type": "execute_result"
    }
   ],
   "source": [
    "str_dt_daily_news = dt_daily_news.strftime('%Y-%m-%d, %A')\n",
    "str_dt_daily_news"
   ]
  },
  {
   "cell_type": "code",
   "execution_count": null,
   "metadata": {},
   "outputs": [],
   "source": []
  },
  {
   "cell_type": "code",
   "execution_count": null,
   "metadata": {},
   "outputs": [],
   "source": []
  },
  {
   "cell_type": "code",
   "execution_count": null,
   "metadata": {},
   "outputs": [],
   "source": []
  },
  {
   "cell_type": "markdown",
   "metadata": {},
   "source": [
    "### Задание 2  \n",
    "Дан поток дат в формате YYYY-MM-DD, в которых встречаются некорректные значения:  \n",
    "stream = ['2018-04-02', '2018-02-29', '2018-19-02']  \n",
    "\n",
    "Напишите функцию, которая проверяет эти даты на корректность.  \n",
    "\n",
    "Т. е. для каждой даты возвращает True (дата корректна) или False (некорректная дата)."
   ]
  },
  {
   "cell_type": "code",
   "execution_count": 30,
   "metadata": {},
   "outputs": [],
   "source": [
    "from datetime import datetime"
   ]
  },
  {
   "cell_type": "code",
   "execution_count": 36,
   "metadata": {},
   "outputs": [],
   "source": [
    "stream = ['2018-04-02', '2018-02-29', '2018-19-02']"
   ]
  },
  {
   "cell_type": "code",
   "execution_count": 37,
   "metadata": {},
   "outputs": [],
   "source": [
    "# Создаю функцию, которая в качестве аргумента принимает данные, и производит проверку на корректность дат в исходных данных\n",
    "def check_date (stream_list):\n",
    "# Создаю пустой список в который буду складывать результаты проверки\n",
    "    result_list = []\n",
    "# Пишу цикл, который перебирает список, и пытается каждый элемент (дату) преобразовать в нужный нам формат\n",
    "    for i in stream_list:\n",
    "# Оборачиваю всю работу цикла в блок \"try; except\"^ что бы он не рухнул если встретится с неправильной датой и выдаст ошибку\n",
    "        try:\n",
    "# в цикле прописываю условную конструкцию, которая пробует перевести каждую дату в нужный формат\n",
    "# если дата переводится, то складываем True в пустой список\n",
    "            if datetime.strptime(i, '%Y-%m-%d'):\n",
    "                result_list.append(bool(1))\n",
    "        except:\n",
    "# в случае, если не переводится, срабатывает ecxept^ b и добавляет в пустой список False\n",
    "            result_list.append(bool(0))\n",
    "# Функция возвращает в качестве результата наполненый результатами проверки список \n",
    "    return result_list"
   ]
  },
  {
   "cell_type": "code",
   "execution_count": 38,
   "metadata": {},
   "outputs": [
    {
     "data": {
      "text/plain": [
       "[True, False, False]"
      ]
     },
     "execution_count": 38,
     "metadata": {},
     "output_type": "execute_result"
    }
   ],
   "source": [
    "check_date(stream)"
   ]
  },
  {
   "cell_type": "code",
   "execution_count": null,
   "metadata": {},
   "outputs": [],
   "source": []
  },
  {
   "cell_type": "code",
   "execution_count": null,
   "metadata": {},
   "outputs": [],
   "source": []
  },
  {
   "cell_type": "code",
   "execution_count": null,
   "metadata": {},
   "outputs": [],
   "source": []
  },
  {
   "cell_type": "markdown",
   "metadata": {},
   "source": [
    "### Задание 3\n",
    "Напишите функцию date_range, которая возвращает список дат за период от start_date до end_date.   \n",
    "\n",
    "Даты должны вводиться в формате YYYY-MM-DD.  \n",
    "\n",
    "В случае неверного формата или при start_date > end_date должен возвращаться пустой список."
   ]
  },
  {
   "cell_type": "code",
   "execution_count": 39,
   "metadata": {},
   "outputs": [],
   "source": [
    "# для импорта исходных данных делаю импорт класса datetime\n",
    "# для математических операций делаю импорт класса timedrlta\n",
    "from datetime import datetime, timedelta"
   ]
  },
  {
   "cell_type": "code",
   "execution_count": 47,
   "metadata": {},
   "outputs": [],
   "source": [
    "start_date = '2018-05-01'"
   ]
  },
  {
   "cell_type": "code",
   "execution_count": 41,
   "metadata": {},
   "outputs": [],
   "source": [
    "end_date = '2018-05-10'"
   ]
  },
  {
   "cell_type": "code",
   "execution_count": 48,
   "metadata": {},
   "outputs": [],
   "source": [
    "# Пишу функцию в которая генерирует список дат в интервале, заданном в качестве входных аргументов функции \n",
    "def date_range (start_d, end_d):\n",
    "# Инициализирую список в который будет генерироваться поток дат в заданном интервале, \n",
    "# Первой датой этого списка будет первая дата, для того что список начинался с этой даты. \n",
    "# В ином случае список начнется с последующей даты\n",
    "    result_list = [start_date]\n",
    "# Для исключения ошибок и остановки цикла создаю конструкцию try; except, в трай помещаю блок когда который будет исполняться \n",
    "    try:\n",
    "# Перевожу входные данные в вормат datetime. БД по дефолту выдают тип str\n",
    "        start_d_dt = datetime.strptime(start_d, '%Y-%m-%d')\n",
    "        end_d_dt = datetime.strptime(end_d, '%Y-%m-%d')\n",
    "# завожу переменную, которая будет в себе временно хранить образующиеся в результате цикла новые даты нарастающим итогом в заданном интервале\n",
    "        current_d_dt = start_d_dt\n",
    "# создаю цикл while который будет прибавлять к стартовой дате по одному дню за счет класса timedelta \n",
    "        while current_d_dt <= end_d_dt:\n",
    "            current_d_dt += timedelta (days = 1)\n",
    "# кузультат  добавляю в результирующий список с одновременным переводом в str для читабильности\n",
    "            result_list.append(current_d_dt.strftime('%Y-%m-%d'))\n",
    "# В except помещаю пустой список, который будет возвращаться случае неправльного формата даты на входе в функцию\n",
    "    except:\n",
    "        result_list = []\n",
    "# пишу результат который возвращает функция\n",
    "    return result_list"
   ]
  },
  {
   "cell_type": "code",
   "execution_count": 49,
   "metadata": {},
   "outputs": [
    {
     "data": {
      "text/plain": [
       "['2018-05-01',\n",
       " '2018-05-02',\n",
       " '2018-05-03',\n",
       " '2018-05-04',\n",
       " '2018-05-05',\n",
       " '2018-05-06',\n",
       " '2018-05-07',\n",
       " '2018-05-08',\n",
       " '2018-05-09',\n",
       " '2018-05-10',\n",
       " '2018-05-11']"
      ]
     },
     "execution_count": 49,
     "metadata": {},
     "output_type": "execute_result"
    }
   ],
   "source": [
    "date_range (start_date, end_date)"
   ]
  },
  {
   "cell_type": "code",
   "execution_count": null,
   "metadata": {},
   "outputs": [],
   "source": []
  }
 ],
 "metadata": {
  "kernelspec": {
   "display_name": "Python 3",
   "language": "python",
   "name": "python3"
  },
  "language_info": {
   "codemirror_mode": {
    "name": "ipython",
    "version": 3
   },
   "file_extension": ".py",
   "mimetype": "text/x-python",
   "name": "python",
   "nbconvert_exporter": "python",
   "pygments_lexer": "ipython3",
   "version": "3.8.5"
  }
 },
 "nbformat": 4,
 "nbformat_minor": 4
}
